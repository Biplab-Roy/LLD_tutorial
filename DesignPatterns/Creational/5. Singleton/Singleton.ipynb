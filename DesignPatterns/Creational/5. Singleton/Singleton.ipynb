{
 "cells": [
  {
   "cell_type": "markdown",
   "metadata": {},
   "source": [
    "### Singleton Design Pattern\n",
    "\n",
    "- This design pattern is used only when we need to create only one instance of any Class.\n",
    "- Client may request for the object more than one time, It is out responsibility to always return one object.\n",
    "\n",
    "### Types of way to create Singleton Class\n",
    "1. Eager\n",
    "    - We create the object from the starting of program, irrespective of client requested or not.\n",
    "    - We return that same created object everytime, whenever client asks\n",
    "\n",
    "2. Lazy\n",
    "    - We create the object first time when client ask for the object.\n",
    "    - However, it may initialize two object wronly in case of multithreading enviroment.\n",
    "        - Both thread may first check that object == nullptr and enter the if, then both of them may create two different object\n",
    "\n",
    "3. Synchronized Method\n",
    "    - To overcome multithreading issue we may use Synchronized Method. It puts a lock on the function.\n",
    "    - The issue with this solution consider when object already created, still all threads will be waiting to enter the getInstance function sequencially, which is not needed.\n",
    "\n",
    "4. Double Locking\n",
    "    - It solves the overhead problem of synchronized method. It will lock mutex only if object need to be allocated.\n",
    "    - Second check will be needed when two theads simultaniously comes to get lock. Second check will ensure two object not created."
   ]
  },
  {
   "cell_type": "markdown",
   "metadata": {},
   "source": []
  }
 ],
 "metadata": {
  "language_info": {
   "name": "python"
  }
 },
 "nbformat": 4,
 "nbformat_minor": 2
}
