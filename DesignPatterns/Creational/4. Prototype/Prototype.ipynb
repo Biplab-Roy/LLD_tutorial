{
 "cells": [
  {
   "cell_type": "markdown",
   "metadata": {},
   "source": [
    "### Prototype\n",
    "- This is the simplemest type of Creational pattern.\n",
    "- This pattern is important when we want to clone a object, when the corresponding class has a lot of property.\n",
    "- Prorotype design pattern rule says, the class should have facility to clone itself.\n",
    "- This will reduce client's responsibility in cloning the object and internal details of the class need to be revealed to client."
   ]
  }
 ],
 "metadata": {
  "language_info": {
   "name": "python"
  }
 },
 "nbformat": 4,
 "nbformat_minor": 2
}
