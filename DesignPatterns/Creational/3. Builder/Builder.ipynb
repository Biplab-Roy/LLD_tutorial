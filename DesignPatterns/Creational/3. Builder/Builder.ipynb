{
 "cells": [
  {
   "cell_type": "markdown",
   "metadata": {},
   "source": [
    "### Builder Design Pattern\n",
    "- It separates the construction of a complex object from its representation, allowing the same construction process to create different representations. \n",
    "- Useful when an object has many optional parameters. (We can avoid large number of contructors).\n",
    "- In the Builder pattern, the **Director** controls the object construction process using a Builder interface. It defines the sequence of steps but delegates the actual building to the builder.\n",
    "- Director can be throught of a Builder of Builder.\n",
    "- **When different type of objects only differs by their property then Builder Pattern is better to use**"
   ]
  },
  {
   "cell_type": "markdown",
   "metadata": {},
   "source": []
  }
 ],
 "metadata": {
  "language_info": {
   "name": "python"
  }
 },
 "nbformat": 4,
 "nbformat_minor": 2
}
