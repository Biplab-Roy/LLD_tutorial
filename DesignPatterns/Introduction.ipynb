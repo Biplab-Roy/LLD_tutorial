{
 "cells": [
  {
   "cell_type": "markdown",
   "metadata": {},
   "source": [
    "### Design Patterns\n",
    "- A design pattern in a reusable solution to a common problem in software design. It is a template for solving a problem that can be used in many different solution."
   ]
  },
  {
   "cell_type": "markdown",
   "metadata": {},
   "source": [
    "#### Creational\n",
    "- These patterns are designed for class instantiation. \n",
    "- They give the program more flexibility in decifing which object need to be created."
   ]
  },
  {
   "cell_type": "markdown",
   "metadata": {},
   "source": [
    "#### Structural\n",
    "- These patterns are designed to decide class structure and composition.\n",
    "- They facilate the design of software architectures."
   ]
  },
  {
   "cell_type": "markdown",
   "metadata": {},
   "source": [
    "#### Behavioral\n",
    "- These patterns are designed to decide how one class communicates with other.\n",
    "- They helps developer create software that responds appropriately to different situation"
   ]
  },
  {
   "cell_type": "markdown",
   "metadata": {},
   "source": [
    "| Type      | Creational        | Structural        | Behavioral        |\n",
    "|-----------|-------------------|-------------------|-------------------|\n",
    "| Class     | Factory Method    | Adapter (Class)   | Interpreter       |\n",
    "|           |                   |                   | Template Method   |\n",
    "|           |                   |                   |                   |\n",
    "| Objects   | Abstract Factory  | Adapter (Object)  | Chain of <br> Responsibility |\n",
    "|           | Builder           | Bridge            | Command           |\n",
    "|           | Prototype         | Composite         | Iterator          |\n",
    "|           | Singleton         | Decorator         | Mediator          |\n",
    "|           |                   | Facade            | Memento           |\n",
    "|           |                   | Flywight          | Observer          |\n",
    "|           |                   | Proxy             | State             |\n",
    "|           |                   |                   | Strategy          |\n",
    "|           |                   |                   | Visitor           |\n"
   ]
  },
  {
   "cell_type": "markdown",
   "metadata": {},
   "source": [
    "#### Class vs Interface\n",
    "- An object's class defines how the object is implemented. The class defines the objects and the implementation of it's operations.\n",
    "- In contrast, an object's type only refers to its' interface - the set of requests to which it can respond."
   ]
  },
  {
   "cell_type": "markdown",
   "metadata": {},
   "source": [
    "#### Inhertance vs Composition\n",
    "- Two most common techniques for reusing functionality in object-oriented systems are class inheritance and object composition.\n",
    "\n",
    "- Inheritance let's you define the implementation of one class extending property of another class. Reuse by subclassing often reffered to as **white-box reuse**.\n",
    "- The term white box referes to visibility with inheritance, the internals of parentclasses are ofter visible to subclasses.\n",
    "\n",
    "- Object composition is an alternative to inhertance, new functionality is obtained by composing objects to get more complex functionality.\n",
    "- This style of reuse often called **Black-Box Reuse**, as no internal detailed are visible. Objects appear only as black boxes."
   ]
  },
  {
   "cell_type": "markdown",
   "metadata": {},
   "source": []
  }
 ],
 "metadata": {
  "language_info": {
   "name": "python"
  }
 },
 "nbformat": 4,
 "nbformat_minor": 2
}
