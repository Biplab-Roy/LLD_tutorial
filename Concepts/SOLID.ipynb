{
 "cells": [
  {
   "cell_type": "markdown",
   "metadata": {},
   "source": [
    "### SOLID"
   ]
  },
  {
   "cell_type": "markdown",
   "metadata": {},
   "source": [
    "SOLID Principle helps to write better code in oops.\n",
    "\n",
    "- S: Single Responsibility Principle\n",
    "- O: Open Close Principle\n",
    "- L: Liskov Substitution Principle\n",
    "- I: Interface Segmented Principle\n",
    "- D: Dependency Inversion Principle"
   ]
  },
  {
   "cell_type": "markdown",
   "metadata": {},
   "source": [
    "#### Single Responsibility Principle\n",
    "- A class should have only one reason to change. On the other words A class should have only one responsibility."
   ]
  },
  {
   "cell_type": "markdown",
   "metadata": {},
   "source": [
    "#### Open Close Principle\n",
    "- A class should be open for extension and closed for modification."
   ]
  },
  {
   "cell_type": "markdown",
   "metadata": {},
   "source": [
    "#### Liskov Substitution Principle\n",
    "- A subclass should extend the capability of parent class not narrow it down\n",
    "- If a class B is a subtype of class A, then we should be able to replace object of A with B, without breaking the behaviour if the program."
   ]
  },
  {
   "cell_type": "markdown",
   "metadata": {},
   "source": [
    "#### Interface Segmented Principle\n",
    "- Interface should be such that, client should not implement unnecessary functions that they do not need.\n",
    "- In other way one Interface should not have different responsibility of different class. It should have common responsibility of different class."
   ]
  },
  {
   "cell_type": "markdown",
   "metadata": {},
   "source": [
    "#### Dependency Inversion Principle\n",
    "- Class should be dependent on interfaces than concrete classes."
   ]
  },
  {
   "cell_type": "markdown",
   "metadata": {},
   "source": []
  }
 ],
 "metadata": {
  "language_info": {
   "name": "python"
  }
 },
 "nbformat": 4,
 "nbformat_minor": 2
}
